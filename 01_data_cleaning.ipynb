{
 "cells": [
  {
   "cell_type": "markdown",
   "id": "d880c166",
   "metadata": {},
   "source": [
    "# 01 - Data Cleaning\n",
    "This notebook loads the CSVs and performs basic cleaning and type casting."
   ]
  },
  {
   "cell_type": "code",
   "execution_count": null,
   "id": "d65c255d",
   "metadata": {},
   "outputs": [],
   "source": [
    "import pandas as pd\n",
    "leads = pd.read_csv('../data/leads.csv')\n",
    "sales = pd.read_csv('../data/sales.csv')\n",
    "products = pd.read_csv('../data/products.csv')\n",
    "leads.head()"
   ]
  },
  {
   "cell_type": "code",
   "execution_count": null,
   "id": "fb718af9",
   "metadata": {},
   "outputs": [],
   "source": [
    "leads['date_created'] = pd.to_datetime(leads['date_created'])\n",
    "sales['close_date'] = pd.to_datetime(sales['close_date'])\n",
    "leads.info()"
   ]
  }
 ],
 "metadata": {},
 "nbformat": 4,
 "nbformat_minor": 5
}
