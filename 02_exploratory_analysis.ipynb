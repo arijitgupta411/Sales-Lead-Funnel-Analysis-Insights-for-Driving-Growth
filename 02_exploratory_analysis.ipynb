{
 "cells": [
  {
   "cell_type": "markdown",
   "id": "d581e61b",
   "metadata": {},
   "source": [
    "# 02 - Exploratory Analysis\n",
    "Group-bys, funnel metrics and summary tables."
   ]
  },
  {
   "cell_type": "code",
   "execution_count": null,
   "id": "8eb9b0e8",
   "metadata": {},
   "outputs": [],
   "source": [
    "import pandas as pd\n",
    "leads = pd.read_csv('../data/leads.csv')\n",
    "sales = pd.read_csv('../data/sales.csv')\n",
    "\n",
    "# Example: leads per source\n",
    "leads.groupby('lead_source').size().reset_index(name='num_leads')"
   ]
  },
  {
   "cell_type": "code",
   "execution_count": null,
   "id": "47ebde26",
   "metadata": {},
   "outputs": [],
   "source": [
    "# Example: closed won revenue by rep\n",
    "sales[sales['stage']=='Closed Won'].groupby('sales_rep')['amount'].sum().reset_index().sort_values('amount', ascending=False).head()"
   ]
  }
 ],
 "metadata": {},
 "nbformat": 4,
 "nbformat_minor": 5
}
