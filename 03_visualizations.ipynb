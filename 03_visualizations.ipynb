{
 "cells": [
  {
   "cell_type": "markdown",
   "id": "bbb83f7e",
   "metadata": {},
   "source": [
    "# 03 - Visualizations\n",
    "Use matplotlib/plotly to create charts for reports."
   ]
  },
  {
   "cell_type": "code",
   "execution_count": null,
   "id": "7d2e4d36",
   "metadata": {},
   "outputs": [],
   "source": [
    "import pandas as pd\n",
    "import matplotlib.pyplot as plt\n",
    "leads = pd.read_csv('../data/leads.csv')\n",
    "leads['date_created'] = pd.to_datetime(leads['date_created'])\n",
    "monthly = leads.set_index('date_created').resample('M').size()\n",
    "monthly.plot()\n",
    "plt.title('Leads per month')\n",
    "plt.show()"
   ]
  }
 ],
 "metadata": {},
 "nbformat": 4,
 "nbformat_minor": 5
}
